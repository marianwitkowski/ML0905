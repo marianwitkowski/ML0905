{
 "cells": [
  {
   "cell_type": "code",
   "execution_count": 51,
   "id": "50d6e043",
   "metadata": {},
   "outputs": [],
   "source": [
    "import pandas as pd"
   ]
  },
  {
   "cell_type": "code",
   "execution_count": 52,
   "id": "ef9ed9ee",
   "metadata": {},
   "outputs": [
    {
     "data": {
      "text/html": [
       "<div><div id=89433158-d580-4bde-ab4f-4e3a58ee9d3e style=\"display:none; background-color:#9D6CFF; color:white; width:200px; height:30px; padding-left:5px; border-radius:4px; flex-direction:row; justify-content:space-around; align-items:center;\" onmouseover=\"this.style.backgroundColor='#BA9BF8'\" onmouseout=\"this.style.backgroundColor='#9D6CFF'\" onclick=\"window.commands?.execute('create-mitosheet-from-dataframe-output');\">See Full Dataframe in Mito</div> <script> if (window.commands.hasCommand('create-mitosheet-from-dataframe-output')) document.getElementById('89433158-d580-4bde-ab4f-4e3a58ee9d3e').style.display = 'flex' </script> <table border=\"1\" class=\"dataframe\">\n",
       "  <thead>\n",
       "    <tr style=\"text-align: right;\">\n",
       "      <th></th>\n",
       "      <th>TV</th>\n",
       "      <th>sales</th>\n",
       "    </tr>\n",
       "  </thead>\n",
       "  <tbody>\n",
       "    <tr>\n",
       "      <th>0</th>\n",
       "      <td>230.1</td>\n",
       "      <td>22.1</td>\n",
       "    </tr>\n",
       "    <tr>\n",
       "      <th>1</th>\n",
       "      <td>44.5</td>\n",
       "      <td>10.4</td>\n",
       "    </tr>\n",
       "    <tr>\n",
       "      <th>2</th>\n",
       "      <td>17.2</td>\n",
       "      <td>9.3</td>\n",
       "    </tr>\n",
       "    <tr>\n",
       "      <th>3</th>\n",
       "      <td>151.5</td>\n",
       "      <td>18.5</td>\n",
       "    </tr>\n",
       "    <tr>\n",
       "      <th>4</th>\n",
       "      <td>180.8</td>\n",
       "      <td>12.9</td>\n",
       "    </tr>\n",
       "    <tr>\n",
       "      <th>...</th>\n",
       "      <td>...</td>\n",
       "      <td>...</td>\n",
       "    </tr>\n",
       "    <tr>\n",
       "      <th>195</th>\n",
       "      <td>38.2</td>\n",
       "      <td>7.6</td>\n",
       "    </tr>\n",
       "    <tr>\n",
       "      <th>196</th>\n",
       "      <td>94.2</td>\n",
       "      <td>9.7</td>\n",
       "    </tr>\n",
       "    <tr>\n",
       "      <th>197</th>\n",
       "      <td>177.0</td>\n",
       "      <td>12.8</td>\n",
       "    </tr>\n",
       "    <tr>\n",
       "      <th>198</th>\n",
       "      <td>283.6</td>\n",
       "      <td>25.5</td>\n",
       "    </tr>\n",
       "    <tr>\n",
       "      <th>199</th>\n",
       "      <td>232.1</td>\n",
       "      <td>13.4</td>\n",
       "    </tr>\n",
       "  </tbody>\n",
       "</table></div>"
      ],
      "text/plain": [
       "        TV  sales\n",
       "0    230.1   22.1\n",
       "1     44.5   10.4\n",
       "2     17.2    9.3\n",
       "3    151.5   18.5\n",
       "4    180.8   12.9\n",
       "..     ...    ...\n",
       "195   38.2    7.6\n",
       "196   94.2    9.7\n",
       "197  177.0   12.8\n",
       "198  283.6   25.5\n",
       "199  232.1   13.4\n",
       "\n",
       "[200 rows x 2 columns]"
      ]
     },
     "execution_count": 52,
     "metadata": {},
     "output_type": "execute_result"
    }
   ],
   "source": [
    "df = pd.read_csv(\"http://51.91.120.89/extras/advertising.csv\", usecols=[\"TV\",\"sales\"])\n",
    "df"
   ]
  },
  {
   "cell_type": "code",
   "execution_count": 53,
   "id": "528eb03d",
   "metadata": {},
   "outputs": [],
   "source": [
    "X = df.TV.values.reshape(-1,1)\n",
    "y = df.sales"
   ]
  },
  {
   "cell_type": "code",
   "execution_count": 54,
   "id": "5b461655",
   "metadata": {},
   "outputs": [],
   "source": [
    "from sklearn.tree import DecisionTreeRegressor\n",
    "from sklearn.ensemble import RandomForestRegressor\n",
    "import numpy as np\n",
    "import matplotlib.pyplot as plt\n",
    "from sklearn.metrics import r2_score"
   ]
  },
  {
   "cell_type": "code",
   "execution_count": 55,
   "id": "b8e95acc",
   "metadata": {},
   "outputs": [
    {
     "data": {
      "text/plain": [
       "DecisionTreeRegressor(max_depth=6, random_state=0)"
      ]
     },
     "execution_count": 55,
     "metadata": {},
     "output_type": "execute_result"
    }
   ],
   "source": [
    "model = DecisionTreeRegressor(max_depth=6, random_state=0)\n",
    "model.fit(X, y)"
   ]
  },
  {
   "cell_type": "code",
   "execution_count": 56,
   "id": "5fbd032d",
   "metadata": {},
   "outputs": [
    {
     "name": "stdout",
     "output_type": "stream",
     "text": [
      "0.7805004963055056\n"
     ]
    },
    {
     "data": {
      "image/png": "[encoded data removed]",
      "text/plain": [
       "<Figure size 576x576 with 1 Axes>"
      ]
     },
     "metadata": {
      "needs_background": "light"
     },
     "output_type": "display_data"
    }
   ],
   "source": [
    "plt.figure(figsize=(8,8))\n",
    "plt.scatter(X, y)\n",
    "\n",
    "x = np.unique(X).reshape(-1,1)\n",
    "y_pred = model.predict(x)\n",
    "\n",
    "plt.plot(x, y_pred, c=\"r\")\n",
    "print(r2_score(y, model.predict(X) ))"
   ]
  },
  {
   "cell_type": "code",
   "execution_count": 57,
   "id": "d64c14a8",
   "metadata": {},
   "outputs": [],
   "source": [
    "# Predykcja cen z otomoto.pl\n",
    "df = pd.read_csv(\"http://51.91.120.89/extras/otomoto-dt.csv\")\n",
    "df = df[ df.Wersja.str.startswith('B8') ]"
   ]
  },
  {
   "cell_type": "code",
   "execution_count": 58,
   "id": "5cb6ff4f",
   "metadata": {},
   "outputs": [
    {
     "data": {
      "text/plain": [
       "(1505, 23)"
      ]
     },
     "execution_count": 58,
     "metadata": {},
     "output_type": "execute_result"
    }
   ],
   "source": [
    "df.shape"
   ]
  },
  {
   "cell_type": "code",
   "execution_count": 59,
   "id": "ff0a93f9",
   "metadata": {},
   "outputs": [
    {
     "data": {
      "text/plain": [
       "Index(['Unnamed: 0', 'ID', 'Cena', 'Rocznik', 'Przebieg', 'Paliwo',\n",
       "       'Marka pojazdu', 'Model pojazdu', 'Wersja', 'Kategoria', 'Moc',\n",
       "       'Skrzynia biegów', 'Typ', 'Kolor', 'Perłowy', 'Zarejestrowany w Polsce',\n",
       "       'Bezwypadkowy', 'Serwisowany w ASO', 'Pierwszy właściciel', 'Metalik',\n",
       "       'Możliwość finansowania', 'Pojemnosc', 'Wyposażenie'],\n",
       "      dtype='object')"
      ]
     },
     "execution_count": 59,
     "metadata": {},
     "output_type": "execute_result"
    }
   ],
   "source": [
    "df.columns"
   ]
  },
  {
   "cell_type": "code",
   "execution_count": 60,
   "id": "91819c40",
   "metadata": {},
   "outputs": [
    {
     "data": {
      "text/plain": [
       "array(['Kombi', 'Sedan', 'Kompakt', 'SUV'], dtype=object)"
      ]
     },
     "execution_count": 60,
     "metadata": {},
     "output_type": "execute_result"
    }
   ],
   "source": [
    "df.Typ.unique()"
   ]
  },
  {
   "cell_type": "code",
   "execution_count": 61,
   "id": "1f1a597b",
   "metadata": {},
   "outputs": [],
   "source": [
    "# czyszczenie kolumn\n",
    "df.drop(columns=['Unnamed: 0','ID','Marka pojazdu', 'Model pojazdu', 'Wersja','Wyposażenie'], inplace=True)"
   ]
  },
  {
   "cell_type": "code",
   "execution_count": 62,
   "id": "ea8fcbac",
   "metadata": {},
   "outputs": [
    {
     "data": {
      "text/html": [
       "<div><div id=604d0f33-227b-42a8-8212-9916b604fcc0 style=\"display:none; background-color:#9D6CFF; color:white; width:200px; height:30px; padding-left:5px; border-radius:4px; flex-direction:row; justify-content:space-around; align-items:center;\" onmouseover=\"this.style.backgroundColor='#BA9BF8'\" onmouseout=\"this.style.backgroundColor='#9D6CFF'\" onclick=\"window.commands?.execute('create-mitosheet-from-dataframe-output');\">See Full Dataframe in Mito</div> <script> if (window.commands.hasCommand('create-mitosheet-from-dataframe-output')) document.getElementById('604d0f33-227b-42a8-8212-9916b604fcc0').style.display = 'flex' </script> <table border=\"1\" class=\"dataframe\">\n",
       "  <thead>\n",
       "    <tr style=\"text-align: right;\">\n",
       "      <th></th>\n",
       "      <th>Cena</th>\n",
       "      <th>Rocznik</th>\n",
       "      <th>Przebieg</th>\n",
       "      <th>Paliwo</th>\n",
       "      <th>Kategoria</th>\n",
       "      <th>Moc</th>\n",
       "      <th>Skrzynia biegów</th>\n",
       "      <th>Typ</th>\n",
       "      <th>Kolor</th>\n",
       "      <th>Perłowy</th>\n",
       "      <th>Zarejestrowany w Polsce</th>\n",
       "      <th>Bezwypadkowy</th>\n",
       "      <th>Serwisowany w ASO</th>\n",
       "      <th>Pierwszy właściciel</th>\n",
       "      <th>Metalik</th>\n",
       "      <th>Możliwość finansowania</th>\n",
       "      <th>Pojemnosc</th>\n",
       "    </tr>\n",
       "  </thead>\n",
       "  <tbody>\n",
       "    <tr>\n",
       "      <th>1440</th>\n",
       "      <td>104900</td>\n",
       "      <td>2019</td>\n",
       "      <td>5.0</td>\n",
       "      <td>Benzyna</td>\n",
       "      <td>Osobowe</td>\n",
       "      <td>150.0</td>\n",
       "      <td>Manualna</td>\n",
       "      <td>Sedan</td>\n",
       "      <td>Czarny</td>\n",
       "      <td>1</td>\n",
       "      <td>0</td>\n",
       "      <td>1</td>\n",
       "      <td>0</td>\n",
       "      <td>0</td>\n",
       "      <td>0</td>\n",
       "      <td>1</td>\n",
       "      <td>1500.0</td>\n",
       "    </tr>\n",
       "    <tr>\n",
       "      <th>16</th>\n",
       "      <td>72500</td>\n",
       "      <td>2015</td>\n",
       "      <td>100881.0</td>\n",
       "      <td>Diesel</td>\n",
       "      <td>Osobowe</td>\n",
       "      <td>190.0</td>\n",
       "      <td>Automatyczna dwusprzęgłowa (DCT, DSG)</td>\n",
       "      <td>Kombi</td>\n",
       "      <td>Szary</td>\n",
       "      <td>0</td>\n",
       "      <td>0</td>\n",
       "      <td>1</td>\n",
       "      <td>1</td>\n",
       "      <td>1</td>\n",
       "      <td>1</td>\n",
       "      <td>1</td>\n",
       "      <td>1968.0</td>\n",
       "    </tr>\n",
       "    <tr>\n",
       "      <th>2268</th>\n",
       "      <td>91500</td>\n",
       "      <td>2017</td>\n",
       "      <td>191000.0</td>\n",
       "      <td>Benzyna</td>\n",
       "      <td>Osobowe</td>\n",
       "      <td>280.0</td>\n",
       "      <td>Automatyczna dwusprzęgłowa (DCT, DSG)</td>\n",
       "      <td>Sedan</td>\n",
       "      <td>Czarny</td>\n",
       "      <td>0</td>\n",
       "      <td>1</td>\n",
       "      <td>1</td>\n",
       "      <td>1</td>\n",
       "      <td>1</td>\n",
       "      <td>1</td>\n",
       "      <td>0</td>\n",
       "      <td>1984.0</td>\n",
       "    </tr>\n",
       "  </tbody>\n",
       "</table></div>"
      ],
      "text/plain": [
       "        Cena  Rocznik  Przebieg   Paliwo Kategoria    Moc  \\\n",
       "1440  104900     2019       5.0  Benzyna   Osobowe  150.0   \n",
       "16     72500     2015  100881.0   Diesel   Osobowe  190.0   \n",
       "2268   91500     2017  191000.0  Benzyna   Osobowe  280.0   \n",
       "\n",
       "                            Skrzynia biegów    Typ   Kolor  Perłowy  \\\n",
       "1440                               Manualna  Sedan  Czarny        1   \n",
       "16    Automatyczna dwusprzęgłowa (DCT, DSG)  Kombi   Szary        0   \n",
       "2268  Automatyczna dwusprzęgłowa (DCT, DSG)  Sedan  Czarny        0   \n",
       "\n",
       "      Zarejestrowany w Polsce  Bezwypadkowy  Serwisowany w ASO  \\\n",
       "1440                        0             1                  0   \n",
       "16                          0             1                  1   \n",
       "2268                        1             1                  1   \n",
       "\n",
       "      Pierwszy właściciel  Metalik  Możliwość finansowania  Pojemnosc  \n",
       "1440                    0        0                       1     1500.0  \n",
       "16                      1        1                       1     1968.0  \n",
       "2268                    1        1                       0     1984.0  "
      ]
     },
     "execution_count": 62,
     "metadata": {},
     "output_type": "execute_result"
    }
   ],
   "source": [
    "df.sample(n=3, random_state=0)"
   ]
  },
  {
   "cell_type": "code",
   "execution_count": 63,
   "id": "c62fc5d3",
   "metadata": {},
   "outputs": [
    {
     "data": {
      "text/plain": [
       "Cena                         int64\n",
       "Rocznik                      int64\n",
       "Przebieg                   float64\n",
       "Paliwo                      object\n",
       "Kategoria                   object\n",
       "Moc                        float64\n",
       "Skrzynia biegów             object\n",
       "Typ                         object\n",
       "Kolor                       object\n",
       "Perłowy                      int64\n",
       "Zarejestrowany w Polsce      int64\n",
       "Bezwypadkowy                 int64\n",
       "Serwisowany w ASO            int64\n",
       "Pierwszy właściciel          int64\n",
       "Metalik                      int64\n",
       "Możliwość finansowania       int64\n",
       "Pojemnosc                  float64\n",
       "dtype: object"
      ]
     },
     "execution_count": 63,
     "metadata": {},
     "output_type": "execute_result"
    }
   ],
   "source": [
    "df.dtypes"
   ]
  },
  {
   "cell_type": "code",
   "execution_count": 64,
   "id": "88881366",
   "metadata": {},
   "outputs": [
    {
     "data": {
      "text/plain": [
       "array(['Automatyczna dwusprzęgłowa (DCT, DSG)', 'Manualna',\n",
       "       'Automatyczna hydrauliczna (klasyczna)',\n",
       "       'Półautomatyczna (ASG, Tiptronic)',\n",
       "       'Automatyczna bezstopniowa (CVT)'], dtype=object)"
      ]
     },
     "execution_count": 64,
     "metadata": {},
     "output_type": "execute_result"
    }
   ],
   "source": [
    "df[\"Skrzynia biegów\"].unique()"
   ]
  },
  {
   "cell_type": "code",
   "execution_count": 65,
   "id": "f3404418",
   "metadata": {},
   "outputs": [
    {
     "data": {
      "text/plain": [
       "Czarny        440\n",
       "Szary         290\n",
       "Srebrny       251\n",
       "Biały         175\n",
       "Niebieski     128\n",
       "Brązowy        92\n",
       "Inny kolor     68\n",
       "Złoty          36\n",
       "Bordowy        11\n",
       "Beżowy         10\n",
       "Czerwony        3\n",
       "Zielony         1\n",
       "Name: Kolor, dtype: int64"
      ]
     },
     "execution_count": 65,
     "metadata": {},
     "output_type": "execute_result"
    }
   ],
   "source": [
    "df.Kolor.value_counts()"
   ]
  },
  {
   "cell_type": "code",
   "execution_count": 66,
   "id": "f9f77ed4",
   "metadata": {},
   "outputs": [],
   "source": [
    "df = pd.get_dummies(df)"
   ]
  },
  {
   "cell_type": "code",
   "execution_count": 67,
   "id": "392bd949",
   "metadata": {},
   "outputs": [
    {
     "data": {
      "text/plain": [
       "Index(['Cena', 'Rocznik', 'Przebieg', 'Moc', 'Perłowy',\n",
       "       'Zarejestrowany w Polsce', 'Bezwypadkowy', 'Serwisowany w ASO',\n",
       "       'Pierwszy właściciel', 'Metalik', 'Możliwość finansowania', 'Pojemnosc',\n",
       "       'Paliwo_Benzyna', 'Paliwo_Diesel', 'Kategoria_Osobowe',\n",
       "       'Skrzynia biegów_Automatyczna bezstopniowa (CVT)',\n",
       "       'Skrzynia biegów_Automatyczna dwusprzęgłowa (DCT, DSG)',\n",
       "       'Skrzynia biegów_Automatyczna hydrauliczna (klasyczna)',\n",
       "       'Skrzynia biegów_Manualna',\n",
       "       'Skrzynia biegów_Półautomatyczna (ASG, Tiptronic)', 'Typ_Kombi',\n",
       "       'Typ_Kompakt', 'Typ_SUV', 'Typ_Sedan', 'Kolor_Beżowy', 'Kolor_Biały',\n",
       "       'Kolor_Bordowy', 'Kolor_Brązowy', 'Kolor_Czarny', 'Kolor_Czerwony',\n",
       "       'Kolor_Inny kolor', 'Kolor_Niebieski', 'Kolor_Srebrny', 'Kolor_Szary',\n",
       "       'Kolor_Zielony', 'Kolor_Złoty'],\n",
       "      dtype='object')"
      ]
     },
     "execution_count": 67,
     "metadata": {},
     "output_type": "execute_result"
    }
   ],
   "source": [
    "df.columns"
   ]
  },
  {
   "cell_type": "code",
   "execution_count": 68,
   "id": "e2db51e8",
   "metadata": {},
   "outputs": [],
   "source": [
    "import seaborn as sns"
   ]
  },
  {
   "cell_type": "code",
   "execution_count": 69,
   "id": "0336119c",
   "metadata": {},
   "outputs": [
    {
     "data": {
      "text/plain": [
       "<AxesSubplot:xlabel='Cena', ylabel='Count'>"
      ]
     },
     "execution_count": 69,
     "metadata": {},
     "output_type": "execute_result"
    },
    {
     "data": {
      "image/png": "[encoded data removed]",
      "text/plain": [
       "<Figure size 432x288 with 1 Axes>"
      ]
     },
     "metadata": {
      "needs_background": "light"
     },
     "output_type": "display_data"
    }
   ],
   "source": [
    "sns.histplot(df.Cena)"
   ]
  },
  {
   "cell_type": "code",
   "execution_count": 70,
   "id": "6b83e761",
   "metadata": {},
   "outputs": [
    {
     "name": "stderr",
     "output_type": "stream",
     "text": [
      "/Users/marian/opt/anaconda3/lib/python3.9/site-packages/seaborn/_decorators.py:36: FutureWarning: Pass the following variables as keyword args: x, y. From version 0.12, the only valid positional argument will be `data`, and passing other arguments without an explicit keyword will result in an error or misinterpretation.\n",
      "  warnings.warn(\n"
     ]
    },
    {
     "data": {
      "text/plain": [
       "<seaborn.axisgrid.JointGrid at 0x7fc174091a30>"
      ]
     },
     "execution_count": 70,
     "metadata": {},
     "output_type": "execute_result"
    },
    {
     "data": {
      "image/png": "[encoded data removed]",
      "text/plain": [
       "<Figure size 432x432 with 3 Axes>"
      ]
     },
     "metadata": {
      "needs_background": "light"
     },
     "output_type": "display_data"
    }
   ],
   "source": [
    "sns.jointplot(df.Rocznik, df.Przebieg)"
   ]
  },
  {
   "cell_type": "code",
   "execution_count": 71,
   "id": "1855449d",
   "metadata": {},
   "outputs": [
    {
     "name": "stderr",
     "output_type": "stream",
     "text": [
      "/Users/marian/opt/anaconda3/lib/python3.9/site-packages/seaborn/_decorators.py:36: FutureWarning: Pass the following variables as keyword args: x, y. From version 0.12, the only valid positional argument will be `data`, and passing other arguments without an explicit keyword will result in an error or misinterpretation.\n",
      "  warnings.warn(\n"
     ]
    },
    {
     "data": {
      "text/plain": [
       "<seaborn.axisgrid.JointGrid at 0x7fc1744d49a0>"
      ]
     },
     "execution_count": 71,
     "metadata": {},
     "output_type": "execute_result"
    },
    {
     "data": {
      "image/png": "[encoded data removed]",
      "text/plain": [
       "<Figure size 432x432 with 3 Axes>"
      ]
     },
     "metadata": {
      "needs_background": "light"
     },
     "output_type": "display_data"
    }
   ],
   "source": [
    "sns.jointplot(df.Przebieg, df.Cena)"
   ]
  },
  {
   "cell_type": "code",
   "execution_count": 72,
   "id": "cee65639",
   "metadata": {},
   "outputs": [],
   "source": [
    "from sklearn.model_selection import train_test_split"
   ]
  },
  {
   "cell_type": "code",
   "execution_count": 73,
   "id": "26f62728",
   "metadata": {},
   "outputs": [
    {
     "name": "stdout",
     "output_type": "stream",
     "text": [
      "DT=2, score=0.8398475179576292\n",
      "DT=3, score=0.901257948541311\n",
      "DT=4, score=0.9276200961057421\n",
      "DT=5, score=0.9336646209111118\n",
      "DT=6, score=0.9344299140578397\n",
      "DT=7, score=0.9360332527947067\n",
      "DT=8, score=0.9356506956153579\n",
      "DT=9, score=0.9346014864241781\n",
      "DT=10, score=0.9332803505810027\n",
      "DT=11, score=0.9325876134283262\n",
      "DT=12, score=0.9317555762502667\n",
      "DT=13, score=0.9310232656005564\n",
      "DT=14, score=0.930854820299579\n",
      "DT=15, score=0.9314699392570638\n"
     ]
    }
   ],
   "source": [
    "X = df.iloc[: , 1:]\n",
    "y = df.Cena\n",
    "\n",
    "X_train, X_test, y_train, y_test = train_test_split(X, y, test_size=0.2, random_state=0)\n",
    "\n",
    "for i in range(2,16):\n",
    "    model = RandomForestRegressor(max_depth=i, random_state=0)\n",
    "    model.fit(X_train, y_train)\n",
    "    print(f\"DT={i}, score={model.score(X_test, y_test)}\")"
   ]
  },
  {
   "cell_type": "code",
   "execution_count": 74,
   "id": "31fd21b7",
   "metadata": {},
   "outputs": [],
   "source": [
    "X = df.iloc[: , 1:]\n",
    "y = df.Cena\n",
    "\n",
    "X_train, X_test, y_train, y_test = train_test_split(X, y, test_size=0.2, random_state=0)"
   ]
  },
  {
   "cell_type": "code",
   "execution_count": 75,
   "id": "e6996de2",
   "metadata": {},
   "outputs": [
    {
     "name": "stdout",
     "output_type": "stream",
     "text": [
      "DT=2, score=0.7913522719184465\n",
      "DT=3, score=0.8697414947918567\n",
      "DT=4, score=0.9145249913857951\n",
      "DT=5, score=0.9173430759251754\n",
      "DT=6, score=0.9166699366617795\n",
      "DT=7, score=0.9126658265999572\n",
      "DT=8, score=0.9101279000256046\n",
      "DT=9, score=0.90606311822552\n",
      "DT=10, score=0.9020525428383067\n",
      "DT=11, score=0.8863490062362863\n",
      "DT=12, score=0.8918519096025583\n",
      "DT=13, score=0.8764650706437558\n",
      "DT=14, score=0.8848018599103535\n",
      "DT=15, score=0.8771680937639931\n"
     ]
    }
   ],
   "source": [
    "for i in range(2,16):\n",
    "    model = DecisionTreeRegressor(max_depth=i, random_state=0)\n",
    "    model.fit(X_train, y_train)\n",
    "    print(f\"DT={i}, score={model.score(X_test, y_test)}\")"
   ]
  },
  {
   "cell_type": "code",
   "execution_count": 76,
   "id": "9cc89772",
   "metadata": {},
   "outputs": [
    {
     "name": "stdout",
     "output_type": "stream",
     "text": [
      "DT=6, score=0.9166699366617795\n"
     ]
    }
   ],
   "source": [
    "i = 6\n",
    "model = DecisionTreeRegressor(max_depth=i, random_state=0)\n",
    "model.fit(X_train, y_train)\n",
    "print(f\"DT={i}, score={model.score(X_test, y_test)}\")"
   ]
  },
  {
   "cell_type": "code",
   "execution_count": 77,
   "id": "2cbdb2a4",
   "metadata": {},
   "outputs": [
    {
     "data": {
      "text/html": [
       "<div><div id=f6824706-55e3-4d2f-986a-fcaadb63af41 style=\"display:none; background-color:#9D6CFF; color:white; width:200px; height:30px; padding-left:5px; border-radius:4px; flex-direction:row; justify-content:space-around; align-items:center;\" onmouseover=\"this.style.backgroundColor='#BA9BF8'\" onmouseout=\"this.style.backgroundColor='#9D6CFF'\" onclick=\"window.commands?.execute('create-mitosheet-from-dataframe-output');\">See Full Dataframe in Mito</div> <script> if (window.commands.hasCommand('create-mitosheet-from-dataframe-output')) document.getElementById('f6824706-55e3-4d2f-986a-fcaadb63af41').style.display = 'flex' </script> <table border=\"1\" class=\"dataframe\">\n",
       "  <thead>\n",
       "    <tr style=\"text-align: right;\">\n",
       "      <th></th>\n",
       "      <th>0</th>\n",
       "    </tr>\n",
       "  </thead>\n",
       "  <tbody>\n",
       "    <tr>\n",
       "      <th>Rocznik</th>\n",
       "      <td>0.728052</td>\n",
       "    </tr>\n",
       "    <tr>\n",
       "      <th>Moc</th>\n",
       "      <td>0.167986</td>\n",
       "    </tr>\n",
       "    <tr>\n",
       "      <th>Przebieg</th>\n",
       "      <td>0.061531</td>\n",
       "    </tr>\n",
       "    <tr>\n",
       "      <th>Skrzynia biegów_Manualna</th>\n",
       "      <td>0.013633</td>\n",
       "    </tr>\n",
       "    <tr>\n",
       "      <th>Paliwo_Diesel</th>\n",
       "      <td>0.011873</td>\n",
       "    </tr>\n",
       "    <tr>\n",
       "      <th>Pojemnosc</th>\n",
       "      <td>0.006750</td>\n",
       "    </tr>\n",
       "    <tr>\n",
       "      <th>Kolor_Niebieski</th>\n",
       "      <td>0.002616</td>\n",
       "    </tr>\n",
       "    <tr>\n",
       "      <th>Kolor_Srebrny</th>\n",
       "      <td>0.002484</td>\n",
       "    </tr>\n",
       "    <tr>\n",
       "      <th>Typ_Sedan</th>\n",
       "      <td>0.002039</td>\n",
       "    </tr>\n",
       "    <tr>\n",
       "      <th>Zarejestrowany w Polsce</th>\n",
       "      <td>0.000926</td>\n",
       "    </tr>\n",
       "  </tbody>\n",
       "</table></div>"
      ],
      "text/plain": [
       "                                 0\n",
       "Rocznik                   0.728052\n",
       "Moc                       0.167986\n",
       "Przebieg                  0.061531\n",
       "Skrzynia biegów_Manualna  0.013633\n",
       "Paliwo_Diesel             0.011873\n",
       "Pojemnosc                 0.006750\n",
       "Kolor_Niebieski           0.002616\n",
       "Kolor_Srebrny             0.002484\n",
       "Typ_Sedan                 0.002039\n",
       "Zarejestrowany w Polsce   0.000926"
      ]
     },
     "execution_count": 77,
     "metadata": {},
     "output_type": "execute_result"
    }
   ],
   "source": [
    "pd.DataFrame( model.feature_importances_, index=X.columns ).sort_values(0, ascending=False).head(10)"
   ]
  },
  {
   "cell_type": "code",
   "execution_count": 78,
   "id": "504ddb46",
   "metadata": {},
   "outputs": [
    {
     "data": {
      "text/plain": [
       "<AxesSubplot:xlabel='Cena', ylabel='Count'>"
      ]
     },
     "execution_count": 78,
     "metadata": {},
     "output_type": "execute_result"
    },
    {
     "data": {
      "image/png": "[encoded data removed]",
      "text/plain": [
       "<Figure size 432x288 with 1 Axes>"
      ]
     },
     "metadata": {
      "needs_background": "light"
     },
     "output_type": "display_data"
    }
   ],
   "source": [
    "# ograniczenie ceny samochodu do 110tys\n",
    "df = df.query( \" Cena<110_000 \")\n",
    "sns.histplot(df.Cena)"
   ]
  },
  {
   "cell_type": "code",
   "execution_count": 79,
   "id": "8836372e",
   "metadata": {},
   "outputs": [
    {
     "name": "stdout",
     "output_type": "stream",
     "text": [
      "DT=2, score=0.5674677404003734\n",
      "DT=3, score=0.622994077584009\n",
      "DT=4, score=0.6734077553178417\n",
      "DT=5, score=0.6652336022460208\n",
      "DT=6, score=0.6233506740530164\n",
      "DT=7, score=0.6183614689000878\n",
      "DT=8, score=0.5229492951192429\n",
      "DT=9, score=0.5139396667615824\n",
      "DT=10, score=0.44737792544625565\n",
      "DT=11, score=0.45067404098862485\n",
      "DT=12, score=0.4341495729807159\n",
      "DT=13, score=0.4077107514698438\n",
      "DT=14, score=0.38989021866456974\n",
      "DT=15, score=0.4521095406246366\n"
     ]
    }
   ],
   "source": [
    "X = df.iloc[: , 1:]\n",
    "y = df.Cena\n",
    "\n",
    "X_train, X_test, y_train, y_test = train_test_split(X, y, test_size=0.2, random_state=0)\n",
    "\n",
    "for i in range(2,16):\n",
    "    model = DecisionTreeRegressor(max_depth=i, random_state=0)\n",
    "    model.fit(X_train, y_train)\n",
    "    print(f\"DT={i}, score={model.score(X_test, y_test)}\")"
   ]
  },
  {
   "cell_type": "code",
   "execution_count": 80,
   "id": "b1530183",
   "metadata": {},
   "outputs": [
    {
     "name": "stderr",
     "output_type": "stream",
     "text": [
      "/Users/marian/opt/anaconda3/lib/python3.9/site-packages/seaborn/_decorators.py:36: FutureWarning: Pass the following variables as keyword args: x, y. From version 0.12, the only valid positional argument will be `data`, and passing other arguments without an explicit keyword will result in an error or misinterpretation.\n",
      "  warnings.warn(\n"
     ]
    },
    {
     "data": {
      "text/plain": [
       "<seaborn.axisgrid.JointGrid at 0x7fc174b13d30>"
      ]
     },
     "execution_count": 80,
     "metadata": {},
     "output_type": "execute_result"
    },
    {
     "data": {
      "image/png": "[encoded data removed]",
      "text/plain": [
       "<Figure size 432x432 with 3 Axes>"
      ]
     },
     "metadata": {
      "needs_background": "light"
     },
     "output_type": "display_data"
    }
   ],
   "source": [
    "sns.jointplot(df.Przebieg, df.Cena)"
   ]
  },
  {
   "cell_type": "code",
   "execution_count": 81,
   "id": "1d2bd089",
   "metadata": {},
   "outputs": [
    {
     "name": "stdout",
     "output_type": "stream",
     "text": [
      "DT=2, score=0.5922579916591237\n",
      "DT=3, score=0.689510312138534\n",
      "DT=4, score=0.7274384315369139\n",
      "DT=5, score=0.7414129818810253\n",
      "DT=6, score=0.7459698018827292\n",
      "DT=7, score=0.7407287828798161\n",
      "DT=8, score=0.7427343974563958\n",
      "DT=9, score=0.739782328668114\n",
      "DT=10, score=0.7374046840311718\n",
      "DT=11, score=0.7327321189693106\n",
      "DT=12, score=0.7337268187665125\n",
      "DT=13, score=0.7350107388732354\n",
      "DT=14, score=0.7331607742946977\n",
      "DT=15, score=0.7330129117648527\n"
     ]
    }
   ],
   "source": [
    "X = df.iloc[: , 1:]\n",
    "y = df.Cena\n",
    "\n",
    "X_train, X_test, y_train, y_test = train_test_split(X, y, test_size=0.2, random_state=0)\n",
    "\n",
    "for i in range(2,16):\n",
    "    model = RandomForestRegressor(max_depth=i, random_state=0)\n",
    "    model.fit(X_train, y_train)\n",
    "    print(f\"DT={i}, score={model.score(X_test, y_test)}\")"
   ]
  },
  {
   "cell_type": "code",
   "execution_count": null,
   "id": "4a74cfc2",
   "metadata": {},
   "outputs": [],
   "source": []
  }
 ],
 "metadata": {
  "kernelspec": {
   "display_name": "Python 3 (ipykernel)",
   "language": "python",
   "name": "python3"
  },
  "language_info": {
   "codemirror_mode": {
    "name": "ipython",
    "version": 3
   },
   "file_extension": ".py",
   "mimetype": "text/x-python",
   "name": "python",
   "nbconvert_exporter": "python",
   "pygments_lexer": "ipython3",
   "version": "3.9.7"
  }
 },
 "nbformat": 4,
 "nbformat_minor": 5
}
