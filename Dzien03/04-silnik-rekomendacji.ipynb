{
 "cells": [
  {
   "cell_type": "code",
   "execution_count": 1,
   "id": "3b65a9ba",
   "metadata": {},
   "outputs": [],
   "source": [
    "import pandas as pd\n",
    "from sklearn.feature_extraction.text import CountVectorizer\n",
    "from sklearn.metrics.pairwise import cosine_similarity"
   ]
  },
  {
   "cell_type": "code",
   "execution_count": 2,
   "id": "400dda2a",
   "metadata": {},
   "outputs": [],
   "source": [
    "sentences = [\"Julia kocha Marka\", \"Marek kocha Annę\", \"Anna i Julia kochają Marka\", \"Dzisiaj świeci słońce\"]"
   ]
  },
  {
   "cell_type": "code",
   "execution_count": 3,
   "id": "3436ad12",
   "metadata": {},
   "outputs": [],
   "source": [
    "cv = CountVectorizer()\n",
    "wm = cv.fit_transform(sentences)"
   ]
  },
  {
   "cell_type": "code",
   "execution_count": 4,
   "id": "49283c44",
   "metadata": {},
   "outputs": [
    {
     "data": {
      "text/html": [
       "<div><div id=d5c09ccc-5a88-4ffe-bcd0-ce37a54fbdbf style=\"display:none; background-color:#9D6CFF; color:white; width:200px; height:30px; padding-left:5px; border-radius:4px; flex-direction:row; justify-content:space-around; align-items:center;\" onmouseover=\"this.style.backgroundColor='#BA9BF8'\" onmouseout=\"this.style.backgroundColor='#9D6CFF'\" onclick=\"window.commands?.execute('create-mitosheet-from-dataframe-output');\">See Full Dataframe in Mito</div> <script> if (window.commands.hasCommand('create-mitosheet-from-dataframe-output')) document.getElementById('d5c09ccc-5a88-4ffe-bcd0-ce37a54fbdbf').style.display = 'flex' </script> <table border=\"1\" class=\"dataframe\">\n",
       "  <thead>\n",
       "    <tr style=\"text-align: right;\">\n",
       "      <th></th>\n",
       "      <th>anna</th>\n",
       "      <th>annę</th>\n",
       "      <th>dzisiaj</th>\n",
       "      <th>julia</th>\n",
       "      <th>kocha</th>\n",
       "      <th>kochają</th>\n",
       "      <th>marek</th>\n",
       "      <th>marka</th>\n",
       "      <th>słońce</th>\n",
       "      <th>świeci</th>\n",
       "    </tr>\n",
       "  </thead>\n",
       "  <tbody>\n",
       "    <tr>\n",
       "      <th>0</th>\n",
       "      <td>0</td>\n",
       "      <td>0</td>\n",
       "      <td>0</td>\n",
       "      <td>1</td>\n",
       "      <td>1</td>\n",
       "      <td>0</td>\n",
       "      <td>0</td>\n",
       "      <td>1</td>\n",
       "      <td>0</td>\n",
       "      <td>0</td>\n",
       "    </tr>\n",
       "    <tr>\n",
       "      <th>1</th>\n",
       "      <td>0</td>\n",
       "      <td>1</td>\n",
       "      <td>0</td>\n",
       "      <td>0</td>\n",
       "      <td>1</td>\n",
       "      <td>0</td>\n",
       "      <td>1</td>\n",
       "      <td>0</td>\n",
       "      <td>0</td>\n",
       "      <td>0</td>\n",
       "    </tr>\n",
       "    <tr>\n",
       "      <th>2</th>\n",
       "      <td>1</td>\n",
       "      <td>0</td>\n",
       "      <td>0</td>\n",
       "      <td>1</td>\n",
       "      <td>0</td>\n",
       "      <td>1</td>\n",
       "      <td>0</td>\n",
       "      <td>1</td>\n",
       "      <td>0</td>\n",
       "      <td>0</td>\n",
       "    </tr>\n",
       "    <tr>\n",
       "      <th>3</th>\n",
       "      <td>0</td>\n",
       "      <td>0</td>\n",
       "      <td>1</td>\n",
       "      <td>0</td>\n",
       "      <td>0</td>\n",
       "      <td>0</td>\n",
       "      <td>0</td>\n",
       "      <td>0</td>\n",
       "      <td>1</td>\n",
       "      <td>1</td>\n",
       "    </tr>\n",
       "  </tbody>\n",
       "</table></div>"
      ],
      "text/plain": [
       "   anna  annę  dzisiaj  julia  kocha  kochają  marek  marka  słońce  świeci\n",
       "0     0     0        0      1      1        0      0      1       0       0\n",
       "1     0     1        0      0      1        0      1      0       0       0\n",
       "2     1     0        0      1      0        1      0      1       0       0\n",
       "3     0     0        1      0      0        0      0      0       1       1"
      ]
     },
     "execution_count": 4,
     "metadata": {},
     "output_type": "execute_result"
    }
   ],
   "source": [
    "pd.DataFrame(wm.toarray(), columns=cv.get_feature_names_out())"
   ]
  },
  {
   "cell_type": "code",
   "execution_count": 6,
   "id": "be9871a0",
   "metadata": {},
   "outputs": [
    {
     "data": {
      "text/html": [
       "<div><div id=d96ce880-8846-4d65-a733-f6edb98bc0c1 style=\"display:none; background-color:#9D6CFF; color:white; width:200px; height:30px; padding-left:5px; border-radius:4px; flex-direction:row; justify-content:space-around; align-items:center;\" onmouseover=\"this.style.backgroundColor='#BA9BF8'\" onmouseout=\"this.style.backgroundColor='#9D6CFF'\" onclick=\"window.commands?.execute('create-mitosheet-from-dataframe-output');\">See Full Dataframe in Mito</div> <script> if (window.commands.hasCommand('create-mitosheet-from-dataframe-output')) document.getElementById('d96ce880-8846-4d65-a733-f6edb98bc0c1').style.display = 'flex' </script> <table border=\"1\" class=\"dataframe\">\n",
       "  <thead>\n",
       "    <tr style=\"text-align: right;\">\n",
       "      <th></th>\n",
       "      <th>0</th>\n",
       "      <th>1</th>\n",
       "      <th>2</th>\n",
       "      <th>3</th>\n",
       "    </tr>\n",
       "  </thead>\n",
       "  <tbody>\n",
       "    <tr>\n",
       "      <th>0</th>\n",
       "      <td>1.000000</td>\n",
       "      <td>0.333333</td>\n",
       "      <td>0.57735</td>\n",
       "      <td>0.0</td>\n",
       "    </tr>\n",
       "    <tr>\n",
       "      <th>1</th>\n",
       "      <td>0.333333</td>\n",
       "      <td>1.000000</td>\n",
       "      <td>0.00000</td>\n",
       "      <td>0.0</td>\n",
       "    </tr>\n",
       "    <tr>\n",
       "      <th>2</th>\n",
       "      <td>0.577350</td>\n",
       "      <td>0.000000</td>\n",
       "      <td>1.00000</td>\n",
       "      <td>0.0</td>\n",
       "    </tr>\n",
       "    <tr>\n",
       "      <th>3</th>\n",
       "      <td>0.000000</td>\n",
       "      <td>0.000000</td>\n",
       "      <td>0.00000</td>\n",
       "      <td>1.0</td>\n",
       "    </tr>\n",
       "  </tbody>\n",
       "</table></div>"
      ],
      "text/plain": [
       "          0         1        2    3\n",
       "0  1.000000  0.333333  0.57735  0.0\n",
       "1  0.333333  1.000000  0.00000  0.0\n",
       "2  0.577350  0.000000  1.00000  0.0\n",
       "3  0.000000  0.000000  0.00000  1.0"
      ]
     },
     "execution_count": 6,
     "metadata": {},
     "output_type": "execute_result"
    }
   ],
   "source": [
    "pd.DataFrame( cosine_similarity(wm) )"
   ]
  },
  {
   "cell_type": "code",
   "execution_count": 8,
   "id": "d455b3b0",
   "metadata": {},
   "outputs": [
    {
     "data": {
      "text/html": [
       "<div><div id=9400bed9-64be-49ad-ba9c-9075babcdacf style=\"display:none; background-color:#9D6CFF; color:white; width:200px; height:30px; padding-left:5px; border-radius:4px; flex-direction:row; justify-content:space-around; align-items:center;\" onmouseover=\"this.style.backgroundColor='#BA9BF8'\" onmouseout=\"this.style.backgroundColor='#9D6CFF'\" onclick=\"window.commands?.execute('create-mitosheet-from-dataframe-output');\">See Full Dataframe in Mito</div> <script> if (window.commands.hasCommand('create-mitosheet-from-dataframe-output')) document.getElementById('9400bed9-64be-49ad-ba9c-9075babcdacf').style.display = 'flex' </script> <table border=\"1\" class=\"dataframe\">\n",
       "  <thead>\n",
       "    <tr style=\"text-align: right;\">\n",
       "      <th></th>\n",
       "      <th>index</th>\n",
       "      <th>budget</th>\n",
       "      <th>genres</th>\n",
       "      <th>homepage</th>\n",
       "      <th>id</th>\n",
       "      <th>keywords</th>\n",
       "      <th>original_language</th>\n",
       "      <th>original_title</th>\n",
       "      <th>overview</th>\n",
       "      <th>popularity</th>\n",
       "      <th>...</th>\n",
       "      <th>runtime</th>\n",
       "      <th>spoken_languages</th>\n",
       "      <th>status</th>\n",
       "      <th>tagline</th>\n",
       "      <th>title</th>\n",
       "      <th>vote_average</th>\n",
       "      <th>vote_count</th>\n",
       "      <th>cast</th>\n",
       "      <th>crew</th>\n",
       "      <th>director</th>\n",
       "    </tr>\n",
       "  </thead>\n",
       "  <tbody>\n",
       "    <tr>\n",
       "      <th>0</th>\n",
       "      <td>0</td>\n",
       "      <td>237000000</td>\n",
       "      <td>Action Adventure Fantasy Science Fiction</td>\n",
       "      <td>http://www.avatarmovie.com/</td>\n",
       "      <td>19995</td>\n",
       "      <td>culture clash future space war space colony society</td>\n",
       "      <td>en</td>\n",
       "      <td>Avatar</td>\n",
       "      <td>In the 22nd century, a paraplegic Marine is dispatched to the moon Pandora on a unique mission, but becomes torn between following orders and protecting an alien civilization.</td>\n",
       "      <td>150.437577</td>\n",
       "      <td>...</td>\n",
       "      <td>162.0</td>\n",
       "      <td>[{\"iso_639_1\": \"en\", \"name\": \"English\"}, {\"iso_639_1\": \"es\", \"name\": \"Espa\\u00f1ol\"}]</td>\n",
       "      <td>Released</td>\n",
       "      <td>Enter the World of Pandora.</td>\n",
       "      <td>Avatar</td>\n",
       "      <td>7.2</td>\n",
       "      <td>11800</td>\n",
       "      <td>Sam Worthington Zoe Saldana Sigourney Weaver Stephen Lang Michelle Rodriguez</td>\n",
       "      <td>[{'name': 'Stephen E. Rivkin', 'gender': 0, 'department': 'Editing', 'job': 'Editor', 'credit_id': '52fe48009251416c750aca23', 'id': 1721}, {'name': 'Rick Carter', 'gender': 2, 'department': 'Art', 'job': 'Production Design', 'credit_id': '539c47ecc3a36810e3001f87', 'id': 496}, {'name': 'Christopher Boyes', 'gender': 0, 'department': 'Sound', 'job': 'Sound Designer', 'credit_id': '54491c89c3a3680fb4001cf7', 'id': 900}, {'name': 'Christopher Boyes', 'gender': 0, 'department': 'Sound', 'job': 'Supervising Sound Editor', 'credit_id': '54491cb70e0a267480001bd0', 'id': 900}, {'name': 'Mali Finn', 'gender': 1, 'department': 'Production', 'job': 'Casting', 'credit_id': '539c4a4cc3a36810c9002101', 'id': 1262}, {'name': 'James Horner', 'gender': 2, 'department': 'Sound', 'job': 'Original Music Composer', 'credit_id': '5544ee3b925141499f0008fc', 'id': 1729}, {'name': 'James Cameron', 'gender': 2, 'department': 'Directing', 'job': 'Director', 'credit_id': '52fe48009251416c750ac9c3', 'id': 2710}, {'name': 'James Cameron', 'gender': 2, 'department': 'Writing', 'job': 'Writer', 'credit_id': '52fe48009251416c750ac9d9', 'id': 2710}, {'name': 'James Cameron', 'gender': 2, 'department': 'Editing', 'job': 'Editor', 'credit_id': '52fe48009251416c750aca17', 'id': 2710}, {'name': 'James Cameron', 'gender': 2, 'department': 'Production', 'job': 'Producer', 'credit_id': '52fe48009251416c750aca29', 'id': 2710}, {'name': 'James Cameron', 'gender': 2, 'department': 'Writing', 'job': 'Screenplay', 'credit_id': '52fe48009251416c750aca3f', 'id': 2710}, {'name': 'Andrew Menzies', 'gender': 2, 'department': 'Art', 'job': 'Art Direction', 'credit_id': '539c4987c3a36810ba0021a4', 'id': 7236}, {'name': 'Jill Brooks', 'gender': 0, 'department': 'Visual Effects', 'job': 'Visual Effects Producer', 'credit_id': '549598c3c3a3686ae9004383', 'id': 6690}, {'name': 'Margery Simkin', 'gender': 1, 'department': 'Production', 'job': 'Casting', 'credit_id': '52fe48009251416c750aca4b', 'id': 6347}, {'name': 'Kevin Ishioka', 'gender': 2, 'department': 'Art', 'job': 'Supervising Art Director', 'credit_id': '570b6f419251417da70032fe', 'id': 6878}, {'name': 'Dick Bernstein', 'gender': 0, 'department': 'Sound', 'job': 'Music Editor', 'credit_id': '5495a0fac3a3686ae9004468', 'id': 6883}, {'name': 'Shannon Mills', 'gender': 0, 'department': 'Sound', 'job': 'Sound Effects Editor', 'credit_id': '54959706c3a3686af3003e81', 'id': 8159}, {'name': 'Dennie Thorpe', 'gender': 0, 'department': 'Sound', 'job': 'Foley', 'credit_id': '54491d58c3a3680fb1001ccb', 'id': 8160}, {'name': 'Jana Vance', 'gender': 0, 'department': 'Sound', 'job': 'Foley', 'credit_id': '54491d6cc3a3680fa5001b2c', 'id': 8163}, {'name': 'Deborah Lynn Scott', 'gender': 1, 'department': 'Costume &amp; Make-Up', 'job': 'Costume Design', 'credit_id': '52fe48009251416c750aca57', 'id': 8527}, {'name': 'Jon Landau', 'gender': 2, 'department': 'Production', 'job': 'Producer', 'credit_id': '52fe48009251416c750aca2f', 'id': 8529}, {'name': 'Sean Haworth', 'gender': 0, 'department': 'Art', 'job': 'Art Direction', 'credit_id': '539c4937c3a36810ba002194', 'id': 9618}, {'name': 'Kim Sinclair', 'gender': 1, 'department': 'Art', 'job': 'Set Decoration', 'credit_id': '539c49b6c3a36810c10020e6', 'id': 12653}, {'name': 'Kim Sinclair', 'gender': 1, 'department': 'Art', 'job': 'Supervising Art Director', 'credit_id': '570b6f2f9251413a0e00020d', 'id': 12653}, {'name': 'Richard F. Mays', 'gender': 2, 'department': 'Art', 'job': 'Set Designer', 'credit_id': '54491a6c0e0a26748c001b19', 'id': 14350}, {'name': 'Laeta Kalogridis', 'gender': 1, 'department': 'Production', 'job': 'Executive Producer', 'credit_id': '56928cf4c3a3684cff0025c4', 'id': 20294}, {'name': 'Mayes C. Rubeo', 'gender': 0, 'department': 'Costume &amp; Make-Up', 'job': 'Costume Design', 'credit_id': '52fe48009251416c750aca51', 'id': 17675}, {'name': 'Mauro Fiore', 'gender': 2, 'department': 'Camera', 'job': 'Director of Photography', 'credit_id': '52fe48009251416c750aca11', 'id': 18265}, {'name': 'Scott Herbertson', 'gender': 0, 'department': 'Art', 'job': 'Set Designer', 'credit_id': '5449194d0e0a26748f001b39', 'id': 42281}, {'name': 'Woody Schultz', 'gender': 0, 'department': 'Crew', 'job': 'Stunts', 'credit_id': '52fe48009251416c750aca05', 'id': 42288}, {'name': 'Linda DeVetta', 'gender': 0, 'department': 'Costume &amp; Make-Up', 'job': 'Makeup Artist', 'credit_id': '5592aefb92514152de0010f5', 'id': 29067}, {'name': 'Linda DeVetta', 'gender': 0, 'department': 'Costume &amp; Make-Up', 'job': 'Hairstylist', 'credit_id': '5592afa492514152de00112c', 'id': 29067}, {'name': 'Richard Bluck', 'gender': 2, 'department': 'Camera', 'job': 'Camera Operator', 'credit_id': '54959ed592514130fc002e5d', 'id': 33302}, {'name': 'Simon Bright', 'gender': 2, 'department': 'Art', 'job': 'Art Direction', 'credit_id': '539c4891c3a36810ba002147', 'id': 33303}, {'name': 'Richard Martin', 'gender': 0, 'department': 'Visual Effects', 'job': 'Visual Effects Supervisor', 'credit_id': '54959c069251417a81001f3a', 'id': 113145}, {'name': 'Steve R. Moore', 'gender': 2, 'department': 'Crew', 'job': 'Visual Effects Editor', 'credit_id': '54959a0dc3a3680ff5002c8d', 'id': 58188}, {'name': 'John Refoua', 'gender': 2, 'department': 'Editing', 'job': 'Editor', 'credit_id': '52fe48009251416c750aca1d', 'id': 58871}, {'name': 'Karl J. Martin', 'gender': 0, 'department': 'Art', 'job': 'Set Designer', 'credit_id': '54491a4dc3a3680fc30018ca', 'id': 92359}, {'name': 'Chiling Lin', 'gender': 1, 'department': 'Camera', 'job': 'Director of Photography', 'credit_id': '52fe48009251416c750aca35', 'id': 72201}, {'name': 'Ilram Choi', 'gender': 0, 'department': 'Crew', 'job': 'Stunts', 'credit_id': '52fe48009251416c750ac9ff', 'id': 89714}, {'name': 'Steven Quale', 'gender': 2, 'department': 'Visual Effects', 'job': 'Visual Effects Supervisor', 'credit_id': '54959c529251416e2b004394', 'id': 93214}, {'name': 'Carla Meyer', 'gender': 1, 'department': 'Crew', 'job': 'Dialect Coach', 'credit_id': '54491edf0e0a267489001c37', 'id': 122607}, {'name': 'Nick Bassett', 'gender': 2, 'department': 'Art', 'job': 'Art Direction', 'credit_id': '539c485bc3a368653d001a3a', 'id': 132585}, {'name': 'Jill Cormack', 'gender': 0, 'department': 'Art', 'job': 'Art Direction', 'credit_id': '539c4903c3a368653d001a74', 'id': 132596}, {'name': 'Andy McLaren', 'gender': 0, 'department': 'Art', 'job': 'Art Direction', 'credit_id': '539c4967c3a368653d001a94', 'id': 132604}, {'name': 'Terry Notary', 'gender': 0, 'department': 'Crew', 'job': 'Motion Capture Artist', 'credit_id': '52fe48009251416c750aca45', 'id': 236696}, {'name': 'Garrett Warren', 'gender': 2, 'department': 'Crew', 'job': 'Stunt Coordinator', 'credit_id': '54959e02c3a3680fc60027d2', 'id': 956198}, {'name': 'Jonathan Rothbart', 'gender': 2, 'department': 'Visual Effects', 'job': 'Visual Effects Supervisor', 'credit_id': '54959ca3c3a3686ae300438c', 'id': 957874}, {'name': 'Stefan Dechant', 'gender': 0, 'department': 'Art', 'job': 'Supervising Art Director', 'credit_id': '570b6f519251412c74001b2f', 'id': 957889}, {'name': 'Todd Cherniawsky', 'gender': 2, 'department': 'Art', 'job': 'Supervising Art Director', 'credit_id': '570b6f62c3a3680b77007460', 'id': 959555}, {'name': 'Miranda Rivers', 'gender': 0, 'department': 'Production', 'job': 'Casting', 'credit_id': '539c4a3ac3a36810da0021cc', 'id': 1016177}, {'name': 'Robert Stromberg', 'gender': 0, 'department': 'Art', 'job': 'Production Design', 'credit_id': '539c482cc3a36810c1002062', 'id': 1032536}, {'name': 'John Harding', 'gender': 2, 'department': 'Costume &amp; Make-Up', 'job': 'Costume Design', 'credit_id': '539c4b65c3a36810c9002125', 'id': 1071680}, {'name': 'Roberto De Angelis', 'gender': 0, 'department': 'Camera', 'job': 'Steadicam Operator', 'credit_id': '54959e6692514130fc002e4e', 'id': 1177364}, {'name': 'Mike Smithson', 'gender': 2, 'department': 'Costume &amp; Make-Up', 'job': 'Makeup Department Head', 'credit_id': '539c49f1c3a368653d001aac', 'id': 1202850}, {'name': 'Alain Lalanne', 'gender': 0, 'department': 'Visual Effects', 'job': 'Visual Effects Producer', 'credit_id': '5495999ec3a3686ae100460c', 'id': 1204668}, {'name': 'Lucas Salton', 'gender': 0, 'department': 'Visual Effects', 'job': 'Visual Effects Supervisor', 'credit_id': '54959cdfc3a3681153002729', 'id': 1206410}, {'name': 'Janace Tashjian', 'gender': 0, 'department': 'Crew', 'job': 'Post Production Supervisor', 'credit_id': '549596239251417a81001eae', 'id': 1234266}, {'name': 'Stephen Rosenbaum', 'gender': 0, 'department': 'Visual Effects', 'job': 'Visual Effects Supervisor', 'credit_id': '54959c859251416e1e003efe', 'id': 1271932}, {'name': 'Frankie Karena', 'gender': 0, 'department': 'Costume &amp; Make-Up', 'job': 'Makeup Artist', 'credit_id': '5592af28c3a368775a00105f', 'id': 1310064}, {'name': 'Lisa Lovaas', 'gender': 1, 'department': 'Costume &amp; Make-Up', 'job': 'Costume Supervisor', 'credit_id': '539c4adfc3a36810e300203b', 'id': 1319844}, {'name': 'Jonathan Fawkner', 'gender': 0, 'department': 'Visual Effects', 'job': 'Visual Effects Supervisor', 'credit_id': '54959b579251416e2b004371', 'id': 1327028}, {'name': 'Robert Bavin', 'gender': 0, 'department': 'Art', 'job': 'Art Direction', 'credit_id': '539c48a7c3a36810b5001fa7', 'id': 1330561}, {'name': 'Anthony Almaraz', 'gender': 0, 'department': 'Costume &amp; Make-Up', 'job': 'Costume Supervisor', 'credit_id': '539c4a71c3a36810da0021e0', 'id': 1330567}, {'name': 'Carolyn M. Fenton', 'gender': 0, 'department': 'Costume &amp; Make-Up', 'job': 'Costume Supervisor', 'credit_id': '539c4a8ac3a36810ba0021e4', 'id': 1330570}, {'name': 'Beth Koenigsberg', 'gender': 0, 'department': 'Costume &amp; Make-Up', 'job': 'Costume Supervisor', 'credit_id': '539c4ab6c3a36810da0021f0', 'id': 1330574}, {'name': 'Sam Page', 'gender': 0, 'department': 'Art', 'job': 'Set Designer', 'credit_id': '54491ab70e0a267480001ba2', 'id': 1336191}, {'name': 'Tex Kadonaga', 'gender': 0, 'department': 'Art', 'job': 'Set Designer', 'credit_id': '544919d9c3a3680fc30018bd', 'id': 1339441}, {'name': 'Kim Foscato', 'gender': 0, 'department': 'Editing', 'job': 'Dialogue Editor', 'credit_id': '54491cf50e0a267483001b0c', 'id': 1352422}, {'name': 'Tammy S. Lee', 'gender': 0, 'department': 'Art', 'job': 'Set Designer', 'credit_id': '544919f40e0a26748c001b09', 'id': 1352962}, {'name': 'Denny Caira', 'gender': 0, 'department': 'Crew', 'job': 'Transportation Coordinator', 'credit_id': '5495a115c3a3680ff5002d71', 'id': 1357070}, {'name': 'James Waitkus', 'gender': 0, 'department': 'Crew', 'job': 'Transportation Coordinator', 'credit_id': '5495a12f92514130fc002e94', 'id': 1357071}, {'name': 'Addison Teague', 'gender': 0, 'department': 'Sound', 'job': 'Supervising Sound Editor', 'credit_id': '5495976fc3a36811530026b0', 'id': 1360103}, {'name': 'C. Scott Baker', 'gender': 2, 'department': 'Art', 'job': 'Set Designer', 'credit_id': '54491837c3a3680fb1001c5a', 'id': 1376887}, {'name': 'Luke Caska', 'gender': 0, 'department': 'Art', 'job': 'Set Designer', 'credit_id': '54491878c3a3680fb4001c9d', 'id': 1376888}, {'name': 'David Chow', 'gender': 0, 'department': 'Art', 'job': 'Set Designer', 'credit_id': '544918dac3a3680fa5001ae0', 'id': 1376889}, {'name': 'Jonathan Dyer', 'gender': 0, 'department': 'Art', 'job': 'Set Designer', 'credit_id': '544919110e0a267486001b68', 'id': 1376890}, {'name': 'Joseph Hiura', 'gender': 0, 'department': 'Art', 'job': 'Set Designer', 'credit_id': '54491967c3a3680faa001b5e', 'id': 1376891}, {'name': 'Rebecca Jellie', 'gender': 0, 'department': 'Art', 'job': 'Art Department Coordinator', 'credit_id': '54491997c3a3680fb1001c8a', 'id': 1376892}, {'name': 'Robert Andrew Johnson', 'gender': 0, 'department': 'Art', 'job': 'Set Designer', 'credit_id': '544919ba0e0a26748f001b42', 'id': 1376893}, {'name': 'Mike Stassi', 'gender': 0, 'department': 'Art', 'job': 'Assistant Art Director', 'credit_id': '54491b1dc3a3680faa001b8c', 'id': 1376895}, {'name': 'John Villarino', 'gender': 0, 'department': 'Art', 'job': 'Construction Coordinator', 'credit_id': '54491b79c3a3680fbb001826', 'id': 1376897}, {'name': 'Jeffrey Wisniewski', 'gender': 2, 'department': 'Art', 'job': 'Assistant Art Director', 'credit_id': '54491baec3a3680fb4001ce6', 'id': 1376898}, {'name': 'Cheryl Nardi', 'gender': 0, 'department': 'Editing', 'job': 'Dialogue Editor', 'credit_id': '54491d2fc3a3680fb4001d07', 'id': 1376899}, {'name': 'Marshall Winn', 'gender': 0, 'department': 'Editing', 'job': 'Dialogue Editor', 'credit_id': '54491d86c3a3680fa5001b2f', 'id': 1376901}, {'name': 'Gwendolyn Yates Whittle', 'gender': 0, 'department': 'Sound', 'job': 'Supervising Sound Editor', 'credit_id': '54491d9dc3a3680faa001bb0', 'id': 1376902}, {'name': 'William Stein', 'gender': 0, 'department': 'Sound', 'job': 'Sound Re-Recording Mixer', 'credit_id': '54491dc10e0a267486001bce', 'id': 1376903}, {'name': 'Lula Washington', 'gender': 0, 'department': 'Crew', 'job': 'Choreographer', 'credit_id': '54491f500e0a26747c001c07', 'id': 1376909}, {'name': 'Chris Del Conte', 'gender': 0, 'department': 'Visual Effects', 'job': 'Visual Effects Producer', 'credit_id': '549599239251412c4e002a2e', 'id': 1391692}, {'name': 'R. Christopher White', 'gender': 2, 'department': 'Visual Effects', 'job': 'Visual Effects Supervisor', 'credit_id': '54959d54c3a36831b8001d9a', 'id': 1391695}, {'name': 'Dan Lemmon', 'gender': 0, 'department': 'Visual Effects', 'job': 'Visual Effects Supervisor', 'credit_id': '54959bdf9251412c4e002a66', 'id': 1394070}, {'name': 'Tim Nielsen', 'gender': 0, 'department': 'Sound', 'job': 'Sound Effects Editor', 'credit_id': '5495971d92514132ed002922', 'id': 1394129}, {'name': 'Michael Mulholland', 'gender': 0, 'department': 'Crew', 'job': 'CG Supervisor', 'credit_id': '5592b25792514152cc0011aa', 'id': 1394286}, {'name': 'Thomas Nittmann', 'gender': 0, 'department': 'Crew', 'job': 'Visual Effects Editor', 'credit_id': '54959a329251416e2b004355', 'id': 1394750}, {'name': 'Edson Williams', 'gender': 0, 'department': 'Visual Effects', 'job': 'Visual Effects Supervisor', 'credit_id': '54959d6dc3a3686ae9004401', 'id': 1394755}, {'name': 'Christine Carr', 'gender': 0, 'department': 'Editing', 'job': 'Digital Intermediate', 'credit_id': '5495a08fc3a3686ae300441c', 'id': 1394953}, {'name': 'John Bruno', 'gender': 0, 'department': 'Visual Effects', 'job': 'Visual Effects Supervisor', 'credit_id': '55402d659251413d6d000249', 'id': 1395269}, {'name': 'David Emmerichs', 'gender': 0, 'department': 'Camera', 'job': 'Steadicam Operator', 'credit_id': '54959e7b9251416e1e003f3e', 'id': 1398970}, {'name': 'Christopher Scarabosio', 'gender': 0, 'department': 'Sound', 'job': 'Sound Effects Editor', 'credit_id': '54959734c3a3686ae10045e0', 'id': 1400906}, {'name': 'Jennifer Teves', 'gender': 0, 'department': 'Production', 'job': 'Production Supervisor', 'credit_id': '549595dd92514130fc002d79', 'id': 1401784}, {'name': 'Brigitte Yorke', 'gender': 0, 'department': 'Production', 'job': 'Production Manager', 'credit_id': '549596009251413af70028cc', 'id': 1401785}, {'name': 'Ken Fischer', 'gender': 0, 'department': 'Sound', 'job': 'Sound Effects Editor', 'credit_id': '549596e892514130fc002d99', 'id': 1401786}, {'name': 'Iain Hutton', 'gender': 0, 'department': 'Crew', 'job': 'Special Effects Coordinator', 'credit_id': '549598229251412c4e002a1c', 'id': 1401787}, {'name': 'Steve Ingram', 'gender': 0, 'department': 'Crew', 'job': 'Special Effects Coordinator', 'credit_id': '549598349251416e2b00432b', 'id': 1401788}, {'name': 'Joyce Cox', 'gender': 0, 'department': 'Visual Effects', 'job': 'Visual Effects Producer', 'credit_id': '54959905c3a3686ae3004324', 'id': 1401789}, {'name': 'Jenny Foster', 'gender': 0, 'department': 'Visual Effects', 'job': 'Visual Effects Producer', 'credit_id': '5495994b92514132ed002951', 'id': 1401790}, {'name': 'Christopher Marino', 'gender': 0, 'department': 'Crew', 'job': 'Visual Effects Editor', 'credit_id': '549599cbc3a3686ae1004613', 'id': 1401791}, {'name': 'Jim Milton', 'gender': 0, 'department': 'Crew', 'job': 'Visual Effects Editor', 'credit_id': '549599f2c3a3686ae100461e', 'id': 1401792}, {'name': 'Cyndi Ochs', 'gender': 0, 'department': 'Visual Effects', 'job': 'Visual Effects Producer', 'credit_id': '54959a51c3a3686af3003eb5', 'id': 1401793}, {'name': 'Lucas Putnam', 'gender': 0, 'department': 'Crew', 'job': 'Visual Effects Editor', 'credit_id': '54959a7cc3a36811530026f4', 'id': 1401794}, {'name': \"Anthony 'Max' Ivins\", 'gender': 0, 'department': 'Visual Effects', 'job': 'Visual Effects Supervisor', 'credit_id': '54959b91c3a3680ff5002cb4', 'id': 1401795}, {'name': 'John Knoll', 'gender': 0, 'department': 'Visual Effects', 'job': 'Visual Effects Supervisor', 'credit_id': '54959bb69251412c4e002a5f', 'id': 1401796}, {'name': 'Eric Saindon', 'gender': 2, 'department': 'Visual Effects', 'job': 'Visual Effects Supervisor', 'credit_id': '54959cbbc3a3686ae3004391', 'id': 1401799}, {'name': 'Wayne Stables', 'gender': 0, 'department': 'Visual Effects', 'job': 'Visual Effects Supervisor', 'credit_id': '54959d06c3a3686ae90043f6', 'id': 1401800}, {'name': 'David Stinnett', 'gender': 0, 'department': 'Visual Effects', 'job': 'Visual Effects Supervisor', 'credit_id': '54959d259251416e1e003f11', 'id': 1401801}, {'name': 'Guy Williams', 'gender': 0, 'department': 'Visual Effects', 'job': 'Visual Effects Supervisor', 'credit_id': '54959db49251413af7002975', 'id': 1401803}, {'name': 'Stuart Thorp', 'gender': 0, 'department': 'Crew', 'job': 'Stunt Coordinator', 'credit_id': '54959de4c3a3681153002750', 'id': 1401804}, {'name': 'Giles Coburn', 'gender': 0, 'department': 'Lighting', 'job': 'Best Boy Electric', 'credit_id': '54959ef2c3a3680fc60027f2', 'id': 1401805}, {'name': 'Mark Fellman', 'gender': 2, 'department': 'Camera', 'job': 'Still Photographer', 'credit_id': '54959f07c3a3680fc60027f9', 'id': 1401806}, {'name': 'Scott Sprague', 'gender': 0, 'department': 'Lighting', 'job': 'Lighting Technician', 'credit_id': '54959f47c3a3681153002774', 'id': 1401807}, {'name': 'Jeremy Hollobon', 'gender': 0, 'department': 'Visual Effects', 'job': 'Animation Director', 'credit_id': '54959f8cc3a36831b8001df2', 'id': 1401808}, {'name': 'Orlando Meunier', 'gender': 0, 'department': 'Visual Effects', 'job': 'Animation Director', 'credit_id': '54959fa0c3a36831b8001dfb', 'id': 1401809}, {'name': 'Taisuke Tanimura', 'gender': 0, 'department': 'Visual Effects', 'job': 'Animation Director', 'credit_id': '54959fb6c3a3686af3003f54', 'id': 1401810}, {'name': 'Lilia Mishel Acevedo', 'gender': 0, 'department': 'Costume &amp; Make-Up', 'job': 'Set Costumer', 'credit_id': '54959fd2c3a36831b8001e02', 'id': 1401812}, {'name': 'Alejandro M. Hernandez', 'gender': 0, 'department': 'Costume &amp; Make-Up', 'job': 'Set Costumer', 'credit_id': '54959ff9c3a3686ae300440c', 'id': 1401814}, {'name': 'Marvin Hall', 'gender': 0, 'department': 'Editing', 'job': 'Digital Intermediate', 'credit_id': '5495a0ddc3a3686ae10046fe', 'id': 1401815}, {'name': 'Judy Alley', 'gender': 0, 'department': 'Production', 'job': 'Publicist', 'credit_id': '5495a1f7c3a3686ae3004443', 'id': 1401816}, {'name': 'Mike Perry', 'gender': 0, 'department': 'Crew', 'job': 'CG Supervisor', 'credit_id': '5592b29fc3a36869d100002f', 'id': 1418381}, {'name': 'Andrew Morley', 'gender': 0, 'department': 'Crew', 'job': 'CG Supervisor', 'credit_id': '5592b23a9251415df8001081', 'id': 1426854}, {'name': 'Seth Engstrom', 'gender': 0, 'department': 'Art', 'job': 'Conceptual Design', 'credit_id': '55491e1192514104c40002d8', 'id': 1438901}, {'name': 'Eric Oliver', 'gender': 0, 'department': 'Crew', 'job': 'Visual Effects Art Director', 'credit_id': '5525d5809251417276002b06', 'id': 1447362}, {'name': 'Matsune Suzuki', 'gender': 0, 'department': 'Visual Effects', 'job': 'Modeling', 'credit_id': '554427ca925141586500312a', 'id': 1447503}, {'name': 'Paul Tobin', 'gender': 0, 'department': 'Art', 'job': 'Art Department Manager', 'credit_id': '551906889251415aab001c88', 'id': 1447524}, {'name': 'Roxane Griffin', 'gender': 0, 'department': 'Costume &amp; Make-Up', 'job': 'Hairstylist', 'credit_id': '5592af8492514152cc0010de', 'id': 1452643}, {'name': 'Arun Ram-Mohan', 'gender': 0, 'department': 'Lighting', 'job': 'Lighting Artist', 'credit_id': '553d3c109251415852001318', 'id': 1453938}, {'name': 'Georgia Lockhart-Adams', 'gender': 0, 'department': 'Costume &amp; Make-Up', 'job': 'Makeup Artist', 'credit_id': '5592af4692514152d5001355', 'id': 1457305}, {'name': 'Thrain Shadbolt', 'gender': 0, 'department': 'Crew', 'job': 'CG Supervisor', 'credit_id': '5592b2eac3a36877470012a5', 'id': 1466035}, {'name': 'Brad Alexander', 'gender': 0, 'department': 'Crew', 'job': 'CG Supervisor', 'credit_id': '5592b032c3a36877450015f1', 'id': 1483220}, {'name': 'Shadi Almassizadeh', 'gender': 0, 'department': 'Crew', 'job': 'CG Supervisor', 'credit_id': '5592b05592514152d80012f6', 'id': 1483221}, {'name': 'Simon Clutterbuck', 'gender': 0, 'department': 'Crew', 'job': 'CG Supervisor', 'credit_id': '5592b090c3a36877570010b5', 'id': 1483222}, {'name': 'Graeme Demmocks', 'gender': 0, 'department': 'Crew', 'job': 'CG Supervisor', 'credit_id': '5592b0dbc3a368774b00112c', 'id': 1483223}, {'name': 'Adrian Fernandes', 'gender': 0, 'department': 'Crew', 'job': 'CG Supervisor', 'credit_id': '5592b0fe92514152db0010c1', 'id': 1483224}, {'name': 'Mitch Gates', 'gender': 0, 'department': 'Crew', 'job': 'CG Supervisor', 'credit_id': '5592b11f9251415df8001059', 'id': 1483225}, {'name': 'Jerry Kung', 'gender': 0, 'department': 'Crew', 'job': 'CG Supervisor', 'credit_id': '5592b15dc3a3687745001645', 'id': 1483226}, {'name': 'Andy Lomas', 'gender': 0, 'department': 'Crew', 'job': 'CG Supervisor', 'credit_id': '5592b18e925141645a0004ae', 'id': 1483227}, {'name': 'Sebastian Marino', 'gender': 0, 'department': 'Crew', 'job': 'CG Supervisor', 'credit_id': '5592b1bfc3a368775d0010e7', 'id': 1483228}, {'name': 'Matthias Menz', 'gender': 0, 'department': 'Crew', 'job': 'CG Supervisor', 'credit_id': '5592b2049251415df8001078', 'id': 1483229}, {'name': 'Sergei Nevshupov', 'gender': 0, 'department': 'Crew', 'job': 'CG Supervisor', 'credit_id': '5592b27b92514152d800136a', 'id': 1483230}, {'name': 'Philippe Rebours', 'gender': 0, 'department': 'Crew', 'job': 'CG Supervisor', 'credit_id': '5592b2c3c3a36869e800003c', 'id': 1483231}, {'name': 'Michael Takarangi', 'gender': 0, 'department': 'Crew', 'job': 'CG Supervisor', 'credit_id': '5592b317c3a36877470012af', 'id': 1483232}, {'name': 'David Weitzberg', 'gender': 0, 'department': 'Crew', 'job': 'CG Supervisor', 'credit_id': '5592b345c3a36877470012bb', 'id': 1483233}, {'name': 'Ben White', 'gender': 0, 'department': 'Crew', 'job': 'CG Supervisor', 'credit_id': '5592b37cc3a368775100113b', 'id': 1483234}, {'name': 'Min Windle', 'gender': 1, 'department': 'Crew', 'job': 'Stunts', 'credit_id': '573c8e2f9251413f5d000094', 'id': 1621932}]</td>\n",
       "      <td>James Cameron</td>\n",
       "    </tr>\n",
       "  </tbody>\n",
       "</table></div>"
      ],
      "text/plain": [
       "   index     budget                                    genres  \\\n",
       "0      0  237000000  Action Adventure Fantasy Science Fiction   \n",
       "\n",
       "                      homepage     id  \\\n",
       "0  http://www.avatarmovie.com/  19995   \n",
       "\n",
       "                                            keywords original_language  \\\n",
       "0  culture clash future space war space colony so...                en   \n",
       "\n",
       "  original_title                                           overview  \\\n",
       "0         Avatar  In the 22nd century, a paraplegic Marine is di...   \n",
       "\n",
       "   popularity  ... runtime                                   spoken_languages  \\\n",
       "0  150.437577  ...   162.0  [{\"iso_639_1\": \"en\", \"name\": \"English\"}, {\"iso...   \n",
       "\n",
       "     status                      tagline   title vote_average vote_count  \\\n",
       "0  Released  Enter the World of Pandora.  Avatar          7.2      11800   \n",
       "\n",
       "                                                cast  \\\n",
       "0  Sam Worthington Zoe Saldana Sigourney Weaver S...   \n",
       "\n",
       "                                                crew       director  \n",
       "0  [{'name': 'Stephen E. Rivkin', 'gender': 0, 'd...  James Cameron  \n",
       "\n",
       "[1 rows x 24 columns]"
      ]
     },
     "execution_count": 8,
     "metadata": {},
     "output_type": "execute_result"
    }
   ],
   "source": [
    "df = pd.read_csv(\"http://51.91.120.89/extras/movie_dataset.csv\")\n",
    "df.head(1)"
   ]
  },
  {
   "cell_type": "code",
   "execution_count": 9,
   "id": "580e3644",
   "metadata": {},
   "outputs": [
    {
     "data": {
      "text/plain": [
       "Index(['index', 'budget', 'genres', 'homepage', 'id', 'keywords',\n",
       "       'original_language', 'original_title', 'overview', 'popularity',\n",
       "       'production_companies', 'production_countries', 'release_date',\n",
       "       'revenue', 'runtime', 'spoken_languages', 'status', 'tagline', 'title',\n",
       "       'vote_average', 'vote_count', 'cast', 'crew', 'director'],\n",
       "      dtype='object')"
      ]
     },
     "execution_count": 9,
     "metadata": {},
     "output_type": "execute_result"
    }
   ],
   "source": [
    "df.columns"
   ]
  },
  {
   "cell_type": "code",
   "execution_count": 10,
   "id": "821c4b72",
   "metadata": {},
   "outputs": [
    {
     "data": {
      "text/plain": [
       "index                                                                   0\n",
       "budget                                                          237000000\n",
       "genres                           Action Adventure Fantasy Science Fiction\n",
       "homepage                                      http://www.avatarmovie.com/\n",
       "id                                                                  19995\n",
       "keywords                culture clash future space war space colony so...\n",
       "original_language                                                      en\n",
       "original_title                                                     Avatar\n",
       "overview                In the 22nd century, a paraplegic Marine is di...\n",
       "popularity                                                     150.437577\n",
       "production_companies    [{\"name\": \"Ingenious Film Partners\", \"id\": 289...\n",
       "production_countries    [{\"iso_3166_1\": \"US\", \"name\": \"United States o...\n",
       "release_date                                                   2009-12-10\n",
       "revenue                                                        2787965087\n",
       "runtime                                                             162.0\n",
       "spoken_languages        [{\"iso_639_1\": \"en\", \"name\": \"English\"}, {\"iso...\n",
       "status                                                           Released\n",
       "tagline                                       Enter the World of Pandora.\n",
       "title                                                              Avatar\n",
       "vote_average                                                          7.2\n",
       "vote_count                                                          11800\n",
       "cast                    Sam Worthington Zoe Saldana Sigourney Weaver S...\n",
       "crew                    [{'name': 'Stephen E. Rivkin', 'gender': 0, 'd...\n",
       "director                                                    James Cameron\n",
       "Name: 0, dtype: object"
      ]
     },
     "execution_count": 10,
     "metadata": {},
     "output_type": "execute_result"
    }
   ],
   "source": [
    "df.iloc[0]"
   ]
  },
  {
   "cell_type": "code",
   "execution_count": 11,
   "id": "b1d05f7c",
   "metadata": {},
   "outputs": [],
   "source": [
    "# wybór cech na potrzeby rekomendacji\n",
    "features = [\"genres\",\"keywords\",\"title\",\"cast\",\"director\"]"
   ]
  },
  {
   "cell_type": "code",
   "execution_count": 13,
   "id": "355854fe",
   "metadata": {
    "collapsed": true
   },
   "outputs": [
    {
     "data": {
      "text/plain": [
       "index                      0\n",
       "budget                     0\n",
       "genres                    28\n",
       "homepage                3091\n",
       "id                         0\n",
       "keywords                 412\n",
       "original_language          0\n",
       "original_title             0\n",
       "overview                   3\n",
       "popularity                 0\n",
       "production_companies       0\n",
       "production_countries       0\n",
       "release_date               1\n",
       "revenue                    0\n",
       "runtime                    2\n",
       "spoken_languages           0\n",
       "status                     0\n",
       "tagline                  844\n",
       "title                      0\n",
       "vote_average               0\n",
       "vote_count                 0\n",
       "cast                      43\n",
       "crew                       0\n",
       "director                  30\n",
       "dtype: int64"
      ]
     },
     "execution_count": 13,
     "metadata": {},
     "output_type": "execute_result"
    }
   ],
   "source": [
    "df.isna().sum()"
   ]
  },
  {
   "cell_type": "code",
   "execution_count": 14,
   "id": "9dc20e70",
   "metadata": {},
   "outputs": [],
   "source": [
    "for col in features:\n",
    "    df[col].fillna(\"\", inplace=True)"
   ]
  },
  {
   "cell_type": "code",
   "execution_count": 15,
   "id": "e51ef39b",
   "metadata": {},
   "outputs": [],
   "source": [
    "# tworzenie kolumny na potrzeby rekomendacji\n",
    "df[\"recommend\"] = df.genres+\" \"+df.keywords+\" \"+df.title+\" \"+df.cast+\" \"+df.director"
   ]
  },
  {
   "cell_type": "code",
   "execution_count": 16,
   "id": "67ac6110",
   "metadata": {},
   "outputs": [
    {
     "data": {
      "text/plain": [
       "'Adventure Action Thriller Science Fiction saving the world artificial intelligence man vs machine flying philosophy The Matrix Revolutions Keanu Reeves Laurence Fishburne Carrie-Anne Moss Hugo Weaving Mary Alice Lilly Wachowski'"
      ]
     },
     "execution_count": 16,
     "metadata": {},
     "output_type": "execute_result"
    }
   ],
   "source": [
    "df.recommend.iloc[123]"
   ]
  },
  {
   "cell_type": "code",
   "execution_count": 17,
   "id": "9fffa739",
   "metadata": {},
   "outputs": [
    {
     "data": {
      "text/plain": [
       "(4803, 17482)"
      ]
     },
     "execution_count": 17,
     "metadata": {},
     "output_type": "execute_result"
    }
   ],
   "source": [
    "cv = CountVectorizer()\n",
    "wm = cv.fit_transform(df.recommend)\n",
    "wm.shape"
   ]
  },
  {
   "cell_type": "code",
   "execution_count": 18,
   "id": "66eb47eb",
   "metadata": {},
   "outputs": [
    {
     "data": {
      "text/plain": [
       "(4803, 4803)"
      ]
     },
     "execution_count": 18,
     "metadata": {},
     "output_type": "execute_result"
    }
   ],
   "source": [
    "# obliczanie podob. cosinusowego\n",
    "sim = cosine_similarity(wm)\n",
    "sim.shape"
   ]
  },
  {
   "cell_type": "code",
   "execution_count": 20,
   "id": "1651755e",
   "metadata": {},
   "outputs": [
    {
     "data": {
      "text/plain": [
       "'Action Adventure Fantasy marvel comic superhero based on comic book hostile takeover norse mythology Thor: The Dark World Chris Hemsworth Natalie Portman Tom Hiddleston Anthony Hopkins Christopher Eccleston Alan Taylor'"
      ]
     },
     "execution_count": 20,
     "metadata": {},
     "output_type": "execute_result"
    }
   ],
   "source": [
    "df.recommend.iloc[126]"
   ]
  },
  {
   "cell_type": "code",
   "execution_count": 21,
   "id": "341581c4",
   "metadata": {},
   "outputs": [
    {
     "data": {
      "text/plain": [
       "0.15386436372416593"
      ]
     },
     "execution_count": 21,
     "metadata": {},
     "output_type": "execute_result"
    }
   ],
   "source": [
    "sim[123,126]"
   ]
  },
  {
   "cell_type": "code",
   "execution_count": 30,
   "id": "91138ad6",
   "metadata": {},
   "outputs": [
    {
     "data": {
      "text/plain": [
       "[(634, 0.8581163303210326),\n",
       " (125, 0.8238858408710998),\n",
       " (93, 0.44781107551989896),\n",
       " (3439, 0.39477101697586137),\n",
       " (108, 0.3555795011093798),\n",
       " (212, 0.33850160019316505),\n",
       " (505, 0.33850160019316505),\n",
       " (43, 0.335012605086404),\n",
       " (95, 0.3289758474798845),\n",
       " (4401, 0.3289758474798845)]"
      ]
     },
     "execution_count": 30,
     "metadata": {},
     "output_type": "execute_result"
    }
   ],
   "source": [
    "def my_sort(x):\n",
    "    return x[1]\n",
    "    \n",
    "sorted( enumerate(sim[123]) , reverse=True, key=lambda x:x[1])[1:11]"
   ]
  },
  {
   "cell_type": "code",
   "execution_count": 32,
   "id": "aa3f9eb3",
   "metadata": {},
   "outputs": [],
   "source": [
    "def get_title_by_index(ix):\n",
    "    return df.iloc[ix].title"
   ]
  },
  {
   "cell_type": "code",
   "execution_count": 41,
   "id": "c6894d7e",
   "metadata": {},
   "outputs": [
    {
     "data": {
      "text/plain": [
       "\"Pirates of the Caribbean: At World's End\""
      ]
     },
     "execution_count": 41,
     "metadata": {},
     "output_type": "execute_result"
    }
   ],
   "source": [
    "get_title_by_index(1)"
   ]
  },
  {
   "cell_type": "code",
   "execution_count": 43,
   "id": "ecd9bb66",
   "metadata": {},
   "outputs": [
    {
     "name": "stdout",
     "output_type": "stream",
     "text": [
      "Pirates of the Caribbean: The Curse of the Black Pearl - 63.0\n",
      "Pirates of the Caribbean: Dead Man's Chest - 61.0\n",
      "The Lord of the Rings: The Fellowship of the Ring - 31.0\n",
      "Seeking a Friend for the End of the World - 31.0\n",
      "The Lord of the Rings: The Return of the King - 30.0\n",
      "Pirates of the Caribbean: On Stranger Tides - 30.0\n",
      "Bedazzled - 29.0\n",
      "The Island - 28.0\n",
      "Kingdom of Heaven - 26.0\n",
      "The Lord of the Rings: The Two Towers - 26.0\n"
     ]
    }
   ],
   "source": [
    "result = sorted( enumerate(sim[1]) , reverse=True, key=lambda x:x[1])[1:11]\n",
    "for mi, sim_ in result:\n",
    "    print(get_title_by_index(mi), round(sim_*100,0) , sep=\" - \")"
   ]
  },
  {
   "cell_type": "code",
   "execution_count": null,
   "id": "f463a0b3",
   "metadata": {},
   "outputs": [],
   "source": []
  }
 ],
 "metadata": {
  "kernelspec": {
   "display_name": "Python 3 (ipykernel)",
   "language": "python",
   "name": "python3"
  },
  "language_info": {
   "codemirror_mode": {
    "name": "ipython",
    "version": 3
   },
   "file_extension": ".py",
   "mimetype": "text/x-python",
   "name": "python",
   "nbconvert_exporter": "python",
   "pygments_lexer": "ipython3",
   "version": "3.9.7"
  }
 },
 "nbformat": 4,
 "nbformat_minor": 5
}
